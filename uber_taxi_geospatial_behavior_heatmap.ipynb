{
 "cells": [
  {
   "cell_type": "markdown",
   "metadata": {
    "id": "XEKQmmmkiIio"
   },
   "source": [
    "### Initial Steps"
   ]
  },
  {
   "cell_type": "code",
   "execution_count": null,
   "metadata": {
    "ExecuteTime": {
     "end_time": "2018-11-19T05:33:33.494092Z",
     "start_time": "2018-11-19T05:33:24.204201Z"
    },
    "colab": {
     "base_uri": "https://localhost:8080/",
     "height": 966
    },
    "id": "mLiflC-JiIir",
    "outputId": "fa300574-d431-4b65-eac0-54203b1ee36c"
   },
   "outputs": [],
   "source": [
    "import pandas as pd\n",
    "import folium\n",
    "path = 'C:\\\\Users\\\\ASUS\\\\projects\\\\Telkomsel_use_case\\\\datasets\\\\'"
   ]
  },
  {
   "cell_type": "code",
   "execution_count": null,
   "metadata": {},
   "outputs": [],
   "source": [
    "df_train = pd.read_csv(path + \"train.csv\").drop(columns=['trip_duration', 'dropoff_datetime'])\n",
    "df_test = pd.read_csv(path + \"test.csv\")\n",
    "df = pd.concat([df_train, df_test], sort=False, ignore_index=True)"
   ]
  },
  {
   "cell_type": "code",
   "execution_count": null,
   "metadata": {
    "colab": {
     "base_uri": "https://localhost:8080/",
     "height": 316
    },
    "id": "C8fCQvSyUrx-",
    "outputId": "5fdacf94-517b-4c53-f368-b7561272b2ff"
   },
   "outputs": [],
   "source": [
    "from folium.plugins import HeatMapWithTime"
   ]
  },
  {
   "cell_type": "markdown",
   "metadata": {
    "id": "fvE0AkF-iIi5"
   },
   "source": [
    "Previewing the data that we will be working with"
   ]
  },
  {
   "cell_type": "code",
   "execution_count": null,
   "metadata": {
    "ExecuteTime": {
     "end_time": "2018-11-19T05:33:33.524478Z",
     "start_time": "2018-11-19T05:33:33.496667Z"
    },
    "id": "mlR_CdsbiIi6",
    "outputId": "eb6548a8-cc4c-4bba-b24f-8985e66b54d1"
   },
   "outputs": [],
   "source": [
    "df.head()"
   ]
  },
  {
   "cell_type": "code",
   "execution_count": null,
   "metadata": {},
   "outputs": [],
   "source": [
    "df.shape"
   ]
  },
  {
   "cell_type": "code",
   "execution_count": null,
   "metadata": {
    "ExecuteTime": {
     "end_time": "2018-11-19T05:33:33.981130Z",
     "start_time": "2018-11-19T05:33:33.526528Z"
    },
    "id": "7XAk9JBliIjA",
    "outputId": "3c258271-55a9-46ef-e7ee-cbaf11ce33af"
   },
   "outputs": [],
   "source": [
    "df.info()"
   ]
  },
  {
   "cell_type": "markdown",
   "metadata": {
    "id": "11J4Nt1AiIjD"
   },
   "source": [
    "### Process Data"
   ]
  },
  {
   "cell_type": "markdown",
   "metadata": {
    "id": "2foWIys9iIjF"
   },
   "source": [
    "Generating month column"
   ]
  },
  {
   "cell_type": "code",
   "execution_count": null,
   "metadata": {
    "ExecuteTime": {
     "end_time": "2018-11-19T05:34:04.547140Z",
     "start_time": "2018-11-19T05:33:33.986148Z"
    },
    "id": "4VU5fEAjiIjG"
   },
   "outputs": [],
   "source": [
    "df.pickup_datetime = pd.to_datetime(df.pickup_datetime, format='%Y-%m-%d %H:%M:%S')\n",
    "df['month'] = df.pickup_datetime.apply(lambda x: x.month)\n",
    "df['week'] = df.pickup_datetime.apply(lambda x: x.week)\n",
    "df['day'] = df.pickup_datetime.apply(lambda x: x.day)\n",
    "df['hour'] = df.pickup_datetime.apply(lambda x: x.hour)"
   ]
  },
  {
   "cell_type": "code",
   "execution_count": null,
   "metadata": {
    "ExecuteTime": {
     "end_time": "2018-11-19T05:34:04.567831Z",
     "start_time": "2018-11-19T05:34:04.551011Z"
    },
    "id": "gpCZL-uJiIjI",
    "outputId": "debada58-17db-4f8a-e7b4-bfba3579bf55"
   },
   "outputs": [],
   "source": [
    "df.head()"
   ]
  },
  {
   "cell_type": "code",
   "execution_count": null,
   "metadata": {
    "ExecuteTime": {
     "end_time": "2018-11-19T05:34:04.668366Z",
     "start_time": "2018-11-19T05:34:04.570016Z"
    },
    "id": "AuXwpgxoiIjM",
    "outputId": "c4468004-45bf-4ca1-f29e-f45f2a5f200b"
   },
   "outputs": [],
   "source": [
    "df.info()"
   ]
  },
  {
   "cell_type": "markdown",
   "metadata": {
    "id": "LKJTPcdBiIjP"
   },
   "source": [
    "As you can see we can obtain the month, week, day, and hour from the pickup_datetime column (which also gets converted to become a datetime column instead of object). We will use these columns in the later parts of our analysis."
   ]
  },
  {
   "cell_type": "markdown",
   "metadata": {
    "id": "NBXk0ENHiIjR"
   },
   "source": [
    "### Map Visualizations with Folium"
   ]
  },
  {
   "cell_type": "markdown",
   "metadata": {
    "id": "wPAgyDlciIjR"
   },
   "source": [
    "Generating the base map that will be used throughout this notebook\n"
   ]
  },
  {
   "cell_type": "code",
   "execution_count": null,
   "metadata": {
    "ExecuteTime": {
     "end_time": "2018-11-19T05:34:04.673013Z",
     "start_time": "2018-11-19T05:34:04.670120Z"
    },
    "id": "0H-uRYF1iIjS"
   },
   "outputs": [],
   "source": [
    "def generateBaseMap(default_location=[40.693943, -73.985880], default_zoom_start=11):\n",
    "    base_map = folium.Map(location=default_location, control_scale=True, zoom_start=default_zoom_start)\n",
    "    return base_map"
   ]
  },
  {
   "cell_type": "code",
   "execution_count": null,
   "metadata": {
    "ExecuteTime": {
     "end_time": "2018-11-19T05:34:04.687135Z",
     "start_time": "2018-11-19T05:34:04.674745Z"
    },
    "id": "ZhOzNzEEiIjV",
    "outputId": "05e4aff1-a312-4594-a895-f20a9ed18106"
   },
   "outputs": [],
   "source": [
    "base_map = generateBaseMap()\n",
    "base_map"
   ]
  },
  {
   "cell_type": "code",
   "execution_count": null,
   "metadata": {
    "ExecuteTime": {
     "end_time": "2018-11-19T05:34:04.692300Z",
     "start_time": "2018-11-19T05:34:04.688755Z"
    },
    "id": "1gqy7gGfiIjY",
    "outputId": "31973be3-de5e-4c84-a47a-0a43a747bf64"
   },
   "outputs": [],
   "source": [
    "type(base_map)"
   ]
  },
  {
   "cell_type": "code",
   "execution_count": null,
   "metadata": {
    "ExecuteTime": {
     "end_time": "2018-11-19T06:05:45.764352Z",
     "start_time": "2018-11-19T06:05:45.761769Z"
    },
    "id": "--pBpUiviIjc"
   },
   "outputs": [],
   "source": [
    "from folium.plugins import HeatMap"
   ]
  },
  {
   "cell_type": "markdown",
   "metadata": {
    "id": "g-4G4lb9iIje"
   },
   "source": [
    "We will be using 2 months worth of data for this analysis, May - June 2016"
   ]
  },
  {
   "cell_type": "code",
   "execution_count": null,
   "metadata": {
    "ExecuteTime": {
     "end_time": "2018-11-19T05:34:05.037298Z",
     "start_time": "2018-11-19T05:34:04.818915Z"
    },
    "id": "2p4cDhYeiIjf"
   },
   "outputs": [],
   "source": [
    "df_copy = df[df.month>4].copy()\n",
    "df_copy['count'] = 1"
   ]
  },
  {
   "cell_type": "code",
   "execution_count": null,
   "metadata": {
    "ExecuteTime": {
     "end_time": "2018-11-19T05:34:05.488062Z",
     "start_time": "2018-11-19T05:34:05.039676Z"
    },
    "id": "MNnhh-IhiIji",
    "outputId": "4d180545-8077-4fe6-ba4b-6c8574c9bbfe"
   },
   "outputs": [],
   "source": [
    "df_copy[['pickup_latitude', 'pickup_longitude', 'count']].groupby(['pickup_latitude', 'pickup_longitude']).sum().sort_values('count', ascending=False).head(10)"
   ]
  },
  {
   "cell_type": "code",
   "execution_count": null,
   "metadata": {
    "ExecuteTime": {
     "end_time": "2018-11-19T10:09:37.970112Z",
     "start_time": "2018-11-19T10:09:34.940649Z"
    },
    "id": "DxWjo2YUiIjo",
    "outputId": "e288e259-9333-4066-daf8-cf4fe1d25387"
   },
   "outputs": [],
   "source": [
    "base_map = generateBaseMap()\n",
    "HeatMap(data=df_copy[['pickup_latitude', 'pickup_longitude', 'count']].groupby(['pickup_latitude', 'pickup_longitude']).sum().reset_index().values.tolist(), radius=8, max_zoom=13).add_to(base_map)"
   ]
  },
  {
   "cell_type": "code",
   "execution_count": null,
   "metadata": {
    "ExecuteTime": {
     "end_time": "2018-11-19T10:09:48.682799Z",
     "start_time": "2018-11-19T10:09:39.486706Z"
    },
    "id": "mzgBodwBiIjr",
    "outputId": "b6e8490d-e7f4-4d81-ff3a-4d82592fe67b"
   },
   "outputs": [],
   "source": [
    "base_map"
   ]
  },
  {
   "cell_type": "code",
   "execution_count": null,
   "metadata": {
    "ExecuteTime": {
     "end_time": "2018-11-19T06:05:48.510629Z",
     "start_time": "2018-11-19T06:05:48.507493Z"
    },
    "id": "QlvINju4iIjx"
   },
   "outputs": [],
   "source": [
    "from folium.plugins import HeatMapWithTime"
   ]
  },
  {
   "cell_type": "code",
   "execution_count": null,
   "metadata": {
    "ExecuteTime": {
     "end_time": "2018-11-19T06:07:49.905776Z",
     "start_time": "2018-11-19T06:07:48.307048Z"
    },
    "id": "2yp37z7SiIjz"
   },
   "outputs": [],
   "source": [
    "df_hour_list = []\n",
    "for hour in df_copy.hour.sort_values().unique():\n",
    "    df_hour_list.append(df_copy.loc[df_copy.hour == hour, ['pickup_latitude', 'pickup_longitude', 'count']].groupby(['pickup_latitude', 'pickup_longitude']).sum().reset_index().values.tolist())"
   ]
  },
  {
   "cell_type": "code",
   "execution_count": null,
   "metadata": {
    "ExecuteTime": {
     "end_time": "2018-11-19T10:02:25.025813Z",
     "start_time": "2018-11-19T10:02:16.970752Z"
    },
    "id": "W4cGleTCiIj0",
    "outputId": "a7951d8a-baf2-4994-cbd7-fb1cbcd42b75"
   },
   "outputs": [],
   "source": [
    "base_map = generateBaseMap(default_zoom_start=11)\n",
    "HeatMapWithTime(df_hour_list, radius=5, gradient={0.2: 'blue', 0.4: 'lime', 0.6: 'orange', 1: 'red'}, min_opacity=0.5, max_opacity=0.8, use_local_extrema=True).add_to(base_map)\n",
    "base_map"
   ]
  },
  {
   "cell_type": "code",
   "execution_count": null,
   "metadata": {},
   "outputs": [],
   "source": []
  }
 ],
 "metadata": {
  "colab": {
   "name": "folium_demonstration.ipynb",
   "provenance": []
  },
  "kernelspec": {
   "display_name": "Python 3",
   "language": "python",
   "name": "python3"
  },
  "language_info": {
   "codemirror_mode": {
    "name": "ipython",
    "version": 3
   },
   "file_extension": ".py",
   "mimetype": "text/x-python",
   "name": "python",
   "nbconvert_exporter": "python",
   "pygments_lexer": "ipython3",
   "version": "3.8.10"
  }
 },
 "nbformat": 4,
 "nbformat_minor": 4
}
